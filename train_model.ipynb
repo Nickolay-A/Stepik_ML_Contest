{
 "cells": [
  {
   "cell_type": "code",
   "execution_count": 13,
   "metadata": {},
   "outputs": [],
   "source": [
    "import pickle\n",
    "\n",
    "import pandas as pd\n",
    "import numpy as np\n",
    "import seaborn as sns\n",
    "import matplotlib.pyplot as plt\n",
    "import xgboost as xgb\n",
    "\n",
    "from sklearn.ensemble import RandomForestClassifier\n",
    "from sklearn.model_selection import GridSearchCV\n",
    "from sklearn.metrics import roc_auc_score\n",
    "from sklearn.model_selection import train_test_split\n",
    "from sklearn.metrics import accuracy_score\n",
    "from xgboost import XGBClassifier"
   ]
  },
  {
   "attachments": {},
   "cell_type": "markdown",
   "metadata": {},
   "source": [
    "Загрузим датасеты для тренировки модели. Удалим колонку с id пользователя. При тренировке и тестировании модели она не нужна."
   ]
  },
  {
   "cell_type": "code",
   "execution_count": 4,
   "metadata": {},
   "outputs": [
    {
     "data": {
      "text/plain": [
       "(19234, 8)"
      ]
     },
     "execution_count": 4,
     "metadata": {},
     "output_type": "execute_result"
    }
   ],
   "source": [
    "X = pd.read_csv(\"datas/X_train.zip\").drop(['user_id'], axis=1)\n",
    "X.shape"
   ]
  },
  {
   "cell_type": "code",
   "execution_count": 3,
   "metadata": {},
   "outputs": [
    {
     "data": {
      "text/html": [
       "<div>\n",
       "<style scoped>\n",
       "    .dataframe tbody tr th:only-of-type {\n",
       "        vertical-align: middle;\n",
       "    }\n",
       "\n",
       "    .dataframe tbody tr th {\n",
       "        vertical-align: top;\n",
       "    }\n",
       "\n",
       "    .dataframe thead th {\n",
       "        text-align: right;\n",
       "    }\n",
       "</style>\n",
       "<table border=\"1\" class=\"dataframe\">\n",
       "  <thead>\n",
       "    <tr style=\"text-align: right;\">\n",
       "      <th></th>\n",
       "      <th>discovered</th>\n",
       "      <th>passed</th>\n",
       "      <th>started_attempt</th>\n",
       "      <th>viewed</th>\n",
       "      <th>correct</th>\n",
       "      <th>wrong</th>\n",
       "      <th>correct_ratio</th>\n",
       "      <th>steps_tried</th>\n",
       "    </tr>\n",
       "  </thead>\n",
       "  <tbody>\n",
       "    <tr>\n",
       "      <th>0</th>\n",
       "      <td>1</td>\n",
       "      <td>0</td>\n",
       "      <td>0</td>\n",
       "      <td>1</td>\n",
       "      <td>0.0</td>\n",
       "      <td>0.0</td>\n",
       "      <td>0.0</td>\n",
       "      <td>0.0</td>\n",
       "    </tr>\n",
       "    <tr>\n",
       "      <th>1</th>\n",
       "      <td>9</td>\n",
       "      <td>9</td>\n",
       "      <td>2</td>\n",
       "      <td>9</td>\n",
       "      <td>2.0</td>\n",
       "      <td>0.0</td>\n",
       "      <td>1.0</td>\n",
       "      <td>2.0</td>\n",
       "    </tr>\n",
       "    <tr>\n",
       "      <th>2</th>\n",
       "      <td>15</td>\n",
       "      <td>15</td>\n",
       "      <td>4</td>\n",
       "      <td>20</td>\n",
       "      <td>4.0</td>\n",
       "      <td>4.0</td>\n",
       "      <td>0.5</td>\n",
       "      <td>4.0</td>\n",
       "    </tr>\n",
       "    <tr>\n",
       "      <th>3</th>\n",
       "      <td>1</td>\n",
       "      <td>1</td>\n",
       "      <td>0</td>\n",
       "      <td>1</td>\n",
       "      <td>2.0</td>\n",
       "      <td>2.0</td>\n",
       "      <td>0.5</td>\n",
       "      <td>2.0</td>\n",
       "    </tr>\n",
       "    <tr>\n",
       "      <th>4</th>\n",
       "      <td>1</td>\n",
       "      <td>1</td>\n",
       "      <td>0</td>\n",
       "      <td>1</td>\n",
       "      <td>0.0</td>\n",
       "      <td>0.0</td>\n",
       "      <td>0.0</td>\n",
       "      <td>0.0</td>\n",
       "    </tr>\n",
       "  </tbody>\n",
       "</table>\n",
       "</div>"
      ],
      "text/plain": [
       "   discovered  passed  started_attempt  viewed  correct  wrong  correct_ratio  \\\n",
       "0           1       0                0       1      0.0    0.0            0.0   \n",
       "1           9       9                2       9      2.0    0.0            1.0   \n",
       "2          15      15                4      20      4.0    4.0            0.5   \n",
       "3           1       1                0       1      2.0    2.0            0.5   \n",
       "4           1       1                0       1      0.0    0.0            0.0   \n",
       "\n",
       "   steps_tried  \n",
       "0          0.0  \n",
       "1          2.0  \n",
       "2          4.0  \n",
       "3          2.0  \n",
       "4          0.0  "
      ]
     },
     "execution_count": 3,
     "metadata": {},
     "output_type": "execute_result"
    }
   ],
   "source": [
    "X.head()"
   ]
  },
  {
   "cell_type": "code",
   "execution_count": 5,
   "metadata": {},
   "outputs": [
    {
     "data": {
      "text/plain": [
       "(19234, 1)"
      ]
     },
     "execution_count": 5,
     "metadata": {},
     "output_type": "execute_result"
    }
   ],
   "source": [
    "y = pd.read_csv(\"datas/y_train.zip\")\n",
    "y.shape"
   ]
  },
  {
   "cell_type": "code",
   "execution_count": 5,
   "metadata": {},
   "outputs": [
    {
     "data": {
      "text/html": [
       "<div>\n",
       "<style scoped>\n",
       "    .dataframe tbody tr th:only-of-type {\n",
       "        vertical-align: middle;\n",
       "    }\n",
       "\n",
       "    .dataframe tbody tr th {\n",
       "        vertical-align: top;\n",
       "    }\n",
       "\n",
       "    .dataframe thead th {\n",
       "        text-align: right;\n",
       "    }\n",
       "</style>\n",
       "<table border=\"1\" class=\"dataframe\">\n",
       "  <thead>\n",
       "    <tr style=\"text-align: right;\">\n",
       "      <th></th>\n",
       "      <th>passed_course</th>\n",
       "    </tr>\n",
       "  </thead>\n",
       "  <tbody>\n",
       "    <tr>\n",
       "      <th>0</th>\n",
       "      <td>0</td>\n",
       "    </tr>\n",
       "    <tr>\n",
       "      <th>1</th>\n",
       "      <td>0</td>\n",
       "    </tr>\n",
       "    <tr>\n",
       "      <th>2</th>\n",
       "      <td>0</td>\n",
       "    </tr>\n",
       "    <tr>\n",
       "      <th>3</th>\n",
       "      <td>0</td>\n",
       "    </tr>\n",
       "    <tr>\n",
       "      <th>4</th>\n",
       "      <td>0</td>\n",
       "    </tr>\n",
       "  </tbody>\n",
       "</table>\n",
       "</div>"
      ],
      "text/plain": [
       "   passed_course\n",
       "0              0\n",
       "1              0\n",
       "2              0\n",
       "3              0\n",
       "4              0"
      ]
     },
     "execution_count": 5,
     "metadata": {},
     "output_type": "execute_result"
    }
   ],
   "source": [
    "y.head()"
   ]
  },
  {
   "attachments": {},
   "cell_type": "markdown",
   "metadata": {},
   "source": [
    "Отделим тренировочную и тестовую выборки для опредления итоговых параметров модели."
   ]
  },
  {
   "cell_type": "code",
   "execution_count": 6,
   "metadata": {},
   "outputs": [],
   "source": [
    "X_train, X_test, y_train, y_test = train_test_split(X, y, test_size=0.2, random_state=0)"
   ]
  },
  {
   "attachments": {},
   "cell_type": "markdown",
   "metadata": {},
   "source": [
    "Напишем функцию для поиска наилучших параметров модели."
   ]
  },
  {
   "cell_type": "code",
   "execution_count": 27,
   "metadata": {},
   "outputs": [],
   "source": [
    "def grid_search(X, y):\n",
    "    \"\"\"\n",
    "    Поиск наилучших параметров для модели.\n",
    "    Возвращает модель с настроенными параметрами, которая обучена\n",
    "    на части тренировочных данных. \n",
    "    \"\"\"\n",
    "\n",
    "    X_train, X_test, y_train, y_test = train_test_split(X, y, test_size=0.2, random_state=0)\n",
    "\n",
    "    # param_grid = {'n_estimators': range(10, 201, 10),\n",
    "    #               'max_depth': range(2, 21),\n",
    "    #               'criterion': ['gini', 'entropy', 'log_loss'],\n",
    "    #               'min_samples_split': range(2, 11),\n",
    "    #               'min_samples_leaf': range(1, 11)}\n",
    "    \n",
    "    # estimator = RandomForestClassifier(random_state=0)\n",
    "\n",
    "    # name = 'rfc'\n",
    "\n",
    "    param_grid = {'max_depth': [3, 5, 7],\n",
    "                  'learning_rate': [0.1, 0.01, 0.001],\n",
    "                  'n_estimators': [50, 100]}\n",
    "    \n",
    "    estimator = XGBClassifier()\n",
    "\n",
    "    name = 'xgb'\n",
    "    \n",
    "    grid_search = GridSearchCV(estimator=estimator,\n",
    "                               param_grid=param_grid,\n",
    "                               cv=5,\n",
    "                               n_jobs=1,\n",
    "                               verbose=3,\n",
    "                               scoring='roc_auc')\n",
    "    \n",
    "    grid_search.fit(X_train, y_train.values.ravel())\n",
    "\n",
    "    print(f'Наилучшие параметры модели {grid_search.best_params_}')\n",
    "\n",
    "    model = grid_search.best_estimator_\n",
    "\n",
    "    score = model.score(X_test, y_test.values.ravel())\n",
    "    pred_proba = model.predict_proba(X_test)\n",
    "    roc_score = roc_auc_score(y_test, pred_proba[:, 1])\n",
    "\n",
    "    print(f'Точность на тестовой выборке {score:.3f}')\n",
    "    print(f'ROC_AUC на тестовой выборке {roc_score:.4f}')\n",
    "\n",
    "    return model, name\n"
   ]
  },
  {
   "attachments": {},
   "cell_type": "markdown",
   "metadata": {},
   "source": [
    "Напишем функцию для финального обучения модели."
   ]
  },
  {
   "cell_type": "code",
   "execution_count": 28,
   "metadata": {},
   "outputs": [],
   "source": [
    "def final_train_and_test(model, name, X_train, X_test, y_train, y_test):\n",
    "    \"\"\"\n",
    "    Финальное обучение модели на полном объеме тренировочных данных\n",
    "    и проверка на тестовых. Сохранение модели.\n",
    "    \"\"\"\n",
    "\n",
    "    model.fit(X_train, y_train.values.ravel())\n",
    "\n",
    "    score = model.score(X_test, y_test)\n",
    "    pred_proba = model.predict_proba(X_test)\n",
    "    roc_score = roc_auc_score(y_test, pred_proba[:, 1])\n",
    "\n",
    "    print(f'Финальная точность на тестовой выборке {score:.3f}')\n",
    "    print(f'Финальный ROC_AUC на тестовой выборке {roc_score:.4f}')\n",
    "    \n",
    "    with open(f'models/model_{name}_roc_auc_{roc_score:.4f}_.pkl', 'wb') as f:\n",
    "        pickle.dump(model, f)\n",
    "\n",
    "    print(f'Модель сохранена в файл model_{name}_roc_auc_{roc_score:.4f}_.pkl')"
   ]
  },
  {
   "cell_type": "code",
   "execution_count": 29,
   "metadata": {},
   "outputs": [
    {
     "name": "stdout",
     "output_type": "stream",
     "text": [
      "Fitting 5 folds for each of 18 candidates, totalling 90 fits\n",
      "[CV 1/5] END learning_rate=0.1, max_depth=3, n_estimators=50;, score=0.884 total time=   0.2s\n",
      "[CV 2/5] END learning_rate=0.1, max_depth=3, n_estimators=50;, score=0.888 total time=   0.1s\n",
      "[CV 3/5] END learning_rate=0.1, max_depth=3, n_estimators=50;, score=0.885 total time=   0.1s\n",
      "[CV 4/5] END learning_rate=0.1, max_depth=3, n_estimators=50;, score=0.900 total time=   0.1s\n",
      "[CV 5/5] END learning_rate=0.1, max_depth=3, n_estimators=50;, score=0.886 total time=   0.1s\n",
      "[CV 1/5] END learning_rate=0.1, max_depth=3, n_estimators=100;, score=0.883 total time=   0.3s\n",
      "[CV 2/5] END learning_rate=0.1, max_depth=3, n_estimators=100;, score=0.888 total time=   0.3s\n",
      "[CV 3/5] END learning_rate=0.1, max_depth=3, n_estimators=100;, score=0.885 total time=   0.4s\n",
      "[CV 4/5] END learning_rate=0.1, max_depth=3, n_estimators=100;, score=0.898 total time=   0.3s\n",
      "[CV 5/5] END learning_rate=0.1, max_depth=3, n_estimators=100;, score=0.884 total time=   0.3s\n",
      "[CV 1/5] END learning_rate=0.1, max_depth=5, n_estimators=50;, score=0.877 total time=   0.2s\n",
      "[CV 2/5] END learning_rate=0.1, max_depth=5, n_estimators=50;, score=0.889 total time=   0.2s\n",
      "[CV 3/5] END learning_rate=0.1, max_depth=5, n_estimators=50;, score=0.886 total time=   0.2s\n",
      "[CV 4/5] END learning_rate=0.1, max_depth=5, n_estimators=50;, score=0.896 total time=   0.2s\n",
      "[CV 5/5] END learning_rate=0.1, max_depth=5, n_estimators=50;, score=0.884 total time=   0.2s\n",
      "[CV 1/5] END learning_rate=0.1, max_depth=5, n_estimators=100;, score=0.877 total time=   0.4s\n",
      "[CV 2/5] END learning_rate=0.1, max_depth=5, n_estimators=100;, score=0.888 total time=   0.4s\n",
      "[CV 3/5] END learning_rate=0.1, max_depth=5, n_estimators=100;, score=0.886 total time=   0.4s\n",
      "[CV 4/5] END learning_rate=0.1, max_depth=5, n_estimators=100;, score=0.893 total time=   0.4s\n",
      "[CV 5/5] END learning_rate=0.1, max_depth=5, n_estimators=100;, score=0.881 total time=   0.4s\n",
      "[CV 1/5] END learning_rate=0.1, max_depth=7, n_estimators=50;, score=0.875 total time=   0.3s\n",
      "[CV 2/5] END learning_rate=0.1, max_depth=7, n_estimators=50;, score=0.886 total time=   0.3s\n",
      "[CV 3/5] END learning_rate=0.1, max_depth=7, n_estimators=50;, score=0.882 total time=   0.3s\n",
      "[CV 4/5] END learning_rate=0.1, max_depth=7, n_estimators=50;, score=0.892 total time=   0.4s\n",
      "[CV 5/5] END learning_rate=0.1, max_depth=7, n_estimators=50;, score=0.877 total time=   0.4s\n",
      "[CV 1/5] END learning_rate=0.1, max_depth=7, n_estimators=100;, score=0.874 total time=   0.5s\n",
      "[CV 2/5] END learning_rate=0.1, max_depth=7, n_estimators=100;, score=0.885 total time=   0.6s\n",
      "[CV 3/5] END learning_rate=0.1, max_depth=7, n_estimators=100;, score=0.879 total time=   0.6s\n",
      "[CV 4/5] END learning_rate=0.1, max_depth=7, n_estimators=100;, score=0.889 total time=   0.7s\n",
      "[CV 5/5] END learning_rate=0.1, max_depth=7, n_estimators=100;, score=0.874 total time=   0.6s\n",
      "[CV 1/5] END learning_rate=0.01, max_depth=3, n_estimators=50;, score=0.884 total time=   0.1s\n",
      "[CV 2/5] END learning_rate=0.01, max_depth=3, n_estimators=50;, score=0.883 total time=   0.1s\n",
      "[CV 3/5] END learning_rate=0.01, max_depth=3, n_estimators=50;, score=0.881 total time=   0.1s\n",
      "[CV 4/5] END learning_rate=0.01, max_depth=3, n_estimators=50;, score=0.899 total time=   0.1s\n",
      "[CV 5/5] END learning_rate=0.01, max_depth=3, n_estimators=50;, score=0.878 total time=   0.1s\n",
      "[CV 1/5] END learning_rate=0.01, max_depth=3, n_estimators=100;, score=0.886 total time=   0.3s\n",
      "[CV 2/5] END learning_rate=0.01, max_depth=3, n_estimators=100;, score=0.887 total time=   0.2s\n",
      "[CV 3/5] END learning_rate=0.01, max_depth=3, n_estimators=100;, score=0.881 total time=   0.2s\n",
      "[CV 4/5] END learning_rate=0.01, max_depth=3, n_estimators=100;, score=0.898 total time=   0.2s\n",
      "[CV 5/5] END learning_rate=0.01, max_depth=3, n_estimators=100;, score=0.882 total time=   0.2s\n",
      "[CV 1/5] END learning_rate=0.01, max_depth=5, n_estimators=50;, score=0.878 total time=   0.2s\n",
      "[CV 2/5] END learning_rate=0.01, max_depth=5, n_estimators=50;, score=0.887 total time=   0.2s\n",
      "[CV 3/5] END learning_rate=0.01, max_depth=5, n_estimators=50;, score=0.882 total time=   0.2s\n",
      "[CV 4/5] END learning_rate=0.01, max_depth=5, n_estimators=50;, score=0.897 total time=   0.2s\n",
      "[CV 5/5] END learning_rate=0.01, max_depth=5, n_estimators=50;, score=0.882 total time=   0.2s\n",
      "[CV 1/5] END learning_rate=0.01, max_depth=5, n_estimators=100;, score=0.876 total time=   0.4s\n",
      "[CV 2/5] END learning_rate=0.01, max_depth=5, n_estimators=100;, score=0.887 total time=   0.5s\n",
      "[CV 3/5] END learning_rate=0.01, max_depth=5, n_estimators=100;, score=0.883 total time=   0.5s\n",
      "[CV 4/5] END learning_rate=0.01, max_depth=5, n_estimators=100;, score=0.898 total time=   0.4s\n",
      "[CV 5/5] END learning_rate=0.01, max_depth=5, n_estimators=100;, score=0.886 total time=   0.4s\n",
      "[CV 1/5] END learning_rate=0.01, max_depth=7, n_estimators=50;, score=0.876 total time=   0.3s\n",
      "[CV 2/5] END learning_rate=0.01, max_depth=7, n_estimators=50;, score=0.889 total time=   0.3s\n",
      "[CV 3/5] END learning_rate=0.01, max_depth=7, n_estimators=50;, score=0.878 total time=   0.3s\n",
      "[CV 4/5] END learning_rate=0.01, max_depth=7, n_estimators=50;, score=0.895 total time=   0.3s\n",
      "[CV 5/5] END learning_rate=0.01, max_depth=7, n_estimators=50;, score=0.877 total time=   0.3s\n",
      "[CV 1/5] END learning_rate=0.01, max_depth=7, n_estimators=100;, score=0.876 total time=   0.6s\n",
      "[CV 2/5] END learning_rate=0.01, max_depth=7, n_estimators=100;, score=0.890 total time=   0.6s\n",
      "[CV 3/5] END learning_rate=0.01, max_depth=7, n_estimators=100;, score=0.882 total time=   0.6s\n",
      "[CV 4/5] END learning_rate=0.01, max_depth=7, n_estimators=100;, score=0.893 total time=   0.6s\n",
      "[CV 5/5] END learning_rate=0.01, max_depth=7, n_estimators=100;, score=0.880 total time=   0.6s\n",
      "[CV 1/5] END learning_rate=0.001, max_depth=3, n_estimators=50;, score=0.878 total time=   0.1s\n",
      "[CV 2/5] END learning_rate=0.001, max_depth=3, n_estimators=50;, score=0.878 total time=   0.1s\n",
      "[CV 3/5] END learning_rate=0.001, max_depth=3, n_estimators=50;, score=0.877 total time=   0.1s\n",
      "[CV 4/5] END learning_rate=0.001, max_depth=3, n_estimators=50;, score=0.885 total time=   0.2s\n",
      "[CV 5/5] END learning_rate=0.001, max_depth=3, n_estimators=50;, score=0.876 total time=   0.1s\n",
      "[CV 1/5] END learning_rate=0.001, max_depth=3, n_estimators=100;, score=0.878 total time=   0.2s\n",
      "[CV 2/5] END learning_rate=0.001, max_depth=3, n_estimators=100;, score=0.883 total time=   0.2s\n",
      "[CV 3/5] END learning_rate=0.001, max_depth=3, n_estimators=100;, score=0.878 total time=   0.2s\n",
      "[CV 4/5] END learning_rate=0.001, max_depth=3, n_estimators=100;, score=0.885 total time=   0.2s\n",
      "[CV 5/5] END learning_rate=0.001, max_depth=3, n_estimators=100;, score=0.877 total time=   0.2s\n",
      "[CV 1/5] END learning_rate=0.001, max_depth=5, n_estimators=50;, score=0.875 total time=   0.2s\n",
      "[CV 2/5] END learning_rate=0.001, max_depth=5, n_estimators=50;, score=0.882 total time=   0.2s\n",
      "[CV 3/5] END learning_rate=0.001, max_depth=5, n_estimators=50;, score=0.880 total time=   0.2s\n",
      "[CV 4/5] END learning_rate=0.001, max_depth=5, n_estimators=50;, score=0.890 total time=   0.2s\n",
      "[CV 5/5] END learning_rate=0.001, max_depth=5, n_estimators=50;, score=0.878 total time=   0.2s\n",
      "[CV 1/5] END learning_rate=0.001, max_depth=5, n_estimators=100;, score=0.882 total time=   0.4s\n",
      "[CV 2/5] END learning_rate=0.001, max_depth=5, n_estimators=100;, score=0.883 total time=   0.4s\n",
      "[CV 3/5] END learning_rate=0.001, max_depth=5, n_estimators=100;, score=0.880 total time=   0.4s\n",
      "[CV 4/5] END learning_rate=0.001, max_depth=5, n_estimators=100;, score=0.890 total time=   0.4s\n",
      "[CV 5/5] END learning_rate=0.001, max_depth=5, n_estimators=100;, score=0.878 total time=   0.4s\n",
      "[CV 1/5] END learning_rate=0.001, max_depth=7, n_estimators=50;, score=0.873 total time=   0.3s\n",
      "[CV 2/5] END learning_rate=0.001, max_depth=7, n_estimators=50;, score=0.881 total time=   0.3s\n",
      "[CV 3/5] END learning_rate=0.001, max_depth=7, n_estimators=50;, score=0.876 total time=   0.3s\n",
      "[CV 4/5] END learning_rate=0.001, max_depth=7, n_estimators=50;, score=0.883 total time=   0.3s\n",
      "[CV 5/5] END learning_rate=0.001, max_depth=7, n_estimators=50;, score=0.878 total time=   0.3s\n",
      "[CV 1/5] END learning_rate=0.001, max_depth=7, n_estimators=100;, score=0.874 total time=   0.6s\n",
      "[CV 2/5] END learning_rate=0.001, max_depth=7, n_estimators=100;, score=0.882 total time=   0.6s\n",
      "[CV 3/5] END learning_rate=0.001, max_depth=7, n_estimators=100;, score=0.876 total time=   0.6s\n",
      "[CV 4/5] END learning_rate=0.001, max_depth=7, n_estimators=100;, score=0.885 total time=   0.6s\n",
      "[CV 5/5] END learning_rate=0.001, max_depth=7, n_estimators=100;, score=0.878 total time=   0.6s\n",
      "Наилучшие параметры модели {'learning_rate': 0.1, 'max_depth': 3, 'n_estimators': 50}\n",
      "Точность на тестовой выборке 0.894\n",
      "ROC_AUC на тестовой выборке 0.8902\n"
     ]
    }
   ],
   "source": [
    "model, name = grid_search(X_train, y_train)"
   ]
  },
  {
   "cell_type": "code",
   "execution_count": 30,
   "metadata": {},
   "outputs": [
    {
     "name": "stdout",
     "output_type": "stream",
     "text": [
      "Финальная точность на тестовой выборке 0.911\n",
      "Финальный ROC_AUC на тестовой выборке 0.8903\n",
      "Модель сохранена в файл model_xgb_roc_auc_0.8903_.pkl\n"
     ]
    }
   ],
   "source": [
    "final_train_and_test(model, name, X_train, X_test, y_train, y_test)"
   ]
  }
 ],
 "metadata": {
  "kernelspec": {
   "display_name": "Python 3",
   "language": "python",
   "name": "python3"
  },
  "language_info": {
   "codemirror_mode": {
    "name": "ipython",
    "version": 3
   },
   "file_extension": ".py",
   "mimetype": "text/x-python",
   "name": "python",
   "nbconvert_exporter": "python",
   "pygments_lexer": "ipython3",
   "version": "3.10.7"
  },
  "orig_nbformat": 4
 },
 "nbformat": 4,
 "nbformat_minor": 2
}

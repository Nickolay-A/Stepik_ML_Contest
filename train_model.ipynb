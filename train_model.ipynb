{
 "cells": [
  {
   "cell_type": "code",
   "execution_count": null,
   "metadata": {},
   "outputs": [],
   "source": [
    "import pickle\n",
    "\n",
    "import pandas as pd\n",
    "import numpy as np\n",
    "import seaborn as sns\n",
    "import matplotlib.pyplot as plt\n",
    "\n",
    "from sklearn.ensemble import RandomForestClassifier\n",
    "from sklearn.model_selection import GridSearchCV\n",
    "from sklearn.metrics import roc_auc_score\n",
    "from sklearn.model_selection import train_test_split"
   ]
  },
  {
   "attachments": {},
   "cell_type": "markdown",
   "metadata": {},
   "source": [
    "Загрузим датасеты для тренировки модели. Удалим колонку с id пользователя. При тренировке и тестировании модели она не нужна."
   ]
  },
  {
   "cell_type": "code",
   "execution_count": null,
   "metadata": {},
   "outputs": [],
   "source": [
    "X = pd.read_csv(\"datas/X_train.zip\").drop(['user_id'], axis=1)\n",
    "X.shape"
   ]
  },
  {
   "cell_type": "code",
   "execution_count": null,
   "metadata": {},
   "outputs": [],
   "source": [
    "X.head()"
   ]
  },
  {
   "cell_type": "code",
   "execution_count": null,
   "metadata": {},
   "outputs": [],
   "source": [
    "y = pd.read_csv(\"datas/y_train.zip\")\n",
    "y.shape"
   ]
  },
  {
   "cell_type": "code",
   "execution_count": null,
   "metadata": {},
   "outputs": [],
   "source": [
    "y.head()"
   ]
  },
  {
   "attachments": {},
   "cell_type": "markdown",
   "metadata": {},
   "source": [
    "Отделим тренировочную и тестовую выборки для опредления итоговых параметров модели."
   ]
  },
  {
   "cell_type": "code",
   "execution_count": null,
   "metadata": {},
   "outputs": [],
   "source": [
    "X_train, X_test, y_train, y_test = train_test_split(X, y, test_size=0.2, random_state=0)"
   ]
  },
  {
   "attachments": {},
   "cell_type": "markdown",
   "metadata": {},
   "source": [
    "Напишем функцию для поиска наилучших параметров модели."
   ]
  },
  {
   "cell_type": "code",
   "execution_count": null,
   "metadata": {},
   "outputs": [],
   "source": [
    "def rfc_grid_search(X, y):\n",
    "    \"\"\"\n",
    "    Поиск наилучших параметров для RandomForest.\n",
    "    Возвращает модель с настроенными параметрами, которая обучена\n",
    "    на части тренировочных данных. \n",
    "    \"\"\"\n",
    "\n",
    "    X_train, X_test, y_train, y_test = train_test_split(X, y, test_size=0.2, random_state=0)\n",
    "\n",
    "    param_grid = {'n_estimators': range(10, 201, 10),\n",
    "                  'max_depth': range(2, 21),\n",
    "                  'criterion': ['gini', 'entropy', 'log_loss'],\n",
    "                  'min_samples_split': range(2, 11),\n",
    "                  'min_samples_leaf': range(1, 11)}\n",
    "    \n",
    "    grid_search = GridSearchCV(RandomForestClassifier(random_state=0),\n",
    "                               param_grid=param_grid,\n",
    "                               cv=5,\n",
    "                               n_jobs=-1)\n",
    "    \n",
    "    grid_search.fit(X_train, y_train.values.ravel())\n",
    "\n",
    "    print(f'Наилучшие параметры модели {grid_search.best_params_}')\n",
    "\n",
    "    rfc = grid_search.best_estimator_\n",
    "\n",
    "    score = rfc.score(X_test, y_test.values.ravel())\n",
    "    pred_proba = rfc.predict_proba(X_test)\n",
    "    roc_score = roc_auc_score(y_test, pred_proba[:, 1])\n",
    "\n",
    "    print(f'Точность на тестовой выборке {score:.3f}')\n",
    "    print(f'ROC_AUC на тестовой выборке {roc_score:.4f}')\n",
    "\n",
    "    return rfc\n"
   ]
  },
  {
   "cell_type": "code",
   "execution_count": null,
   "metadata": {},
   "outputs": [],
   "source": [
    "def rfc_final_train_and_test(model, X_train, X_test, y_train, y_test):\n",
    "    \"\"\"\n",
    "    Финальное обучение модели на полном объеме тренировочных данных\n",
    "    и проверка на тестовых. Сохранение модели.\n",
    "    \"\"\"\n",
    "\n",
    "    model.fit(X_train, y_train.values.ravel())\n",
    "\n",
    "    score = model.score(X_test, y_test)\n",
    "    pred_proba = model.predict_proba(X_test)\n",
    "    roc_score = roc_auc_score(y_test, pred_proba[:, 1])\n",
    "\n",
    "    print(f'Финальная точность на тестовой выборке {score:.3f}')\n",
    "    print(f'Финальный ROC_AUC на тестовой выборке {roc_score:.4f}')\n",
    "    \n",
    "    with open(f'models/model_roc_auc_{roc_score:.4f}_.pkl', 'wb') as f:\n",
    "        pickle.dump(model, f)\n",
    "\n",
    "    print(f'Модель сохранена в файл model_roc_auc_{roc_score:.4f}_.pkl')"
   ]
  },
  {
   "cell_type": "code",
   "execution_count": null,
   "metadata": {},
   "outputs": [],
   "source": [
    "model = rfc_grid_search(X_train, y_train)"
   ]
  },
  {
   "cell_type": "code",
   "execution_count": null,
   "metadata": {},
   "outputs": [],
   "source": [
    "rfc_final_train_and_test(model, X_train, X_test, y_train, y_test)"
   ]
  }
 ],
 "metadata": {
  "kernelspec": {
   "display_name": "Python 3",
   "language": "python",
   "name": "python3"
  },
  "language_info": {
   "codemirror_mode": {
    "name": "ipython",
    "version": 3
   },
   "file_extension": ".py",
   "mimetype": "text/x-python",
   "name": "python",
   "nbconvert_exporter": "python",
   "pygments_lexer": "ipython3",
   "version": "3.10.7"
  },
  "orig_nbformat": 4
 },
 "nbformat": 4,
 "nbformat_minor": 2
}

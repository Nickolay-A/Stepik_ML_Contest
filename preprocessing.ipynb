{
 "cells": [
  {
   "cell_type": "code",
   "execution_count": 1,
   "metadata": {},
   "outputs": [],
   "source": [
    "import pandas as pd\n",
    "import numpy as np\n",
    "import seaborn as sns\n",
    "import matplotlib.pyplot as plt"
   ]
  },
  {
   "attachments": {},
   "cell_type": "markdown",
   "metadata": {},
   "source": [
    "- event_data - данные о действиях, которые совершают студенты:\n",
    "\n",
    "    - step_id - id стэпа\n",
    "    - timestamp - время наступления события в формате unix date\n",
    "    - user_id - id юзера\n",
    "    - action - события:\n",
    "    \n",
    "        - viewed - пользователь впервые увидел задание/урок\n",
    "        - passed - пользователь успешно сдал задание\n",
    "        - discovered - пользователь перешел на стэп\n",
    "        - started_attempt - пользователь начал решать задание\n",
    "        "
   ]
  },
  {
   "cell_type": "code",
   "execution_count": 2,
   "metadata": {},
   "outputs": [
    {
     "data": {
      "text/plain": [
       "(3480703, 4)"
      ]
     },
     "execution_count": 2,
     "metadata": {},
     "output_type": "execute_result"
    }
   ],
   "source": [
    "event_data_train = pd.read_csv(\"datas/event_data_train.zip\")\n",
    "event_data_train.shape\n"
   ]
  },
  {
   "cell_type": "code",
   "execution_count": 3,
   "metadata": {},
   "outputs": [
    {
     "data": {
      "text/html": [
       "<div>\n",
       "<style scoped>\n",
       "    .dataframe tbody tr th:only-of-type {\n",
       "        vertical-align: middle;\n",
       "    }\n",
       "\n",
       "    .dataframe tbody tr th {\n",
       "        vertical-align: top;\n",
       "    }\n",
       "\n",
       "    .dataframe thead th {\n",
       "        text-align: right;\n",
       "    }\n",
       "</style>\n",
       "<table border=\"1\" class=\"dataframe\">\n",
       "  <thead>\n",
       "    <tr style=\"text-align: right;\">\n",
       "      <th></th>\n",
       "      <th>step_id</th>\n",
       "      <th>timestamp</th>\n",
       "      <th>action</th>\n",
       "      <th>user_id</th>\n",
       "    </tr>\n",
       "  </thead>\n",
       "  <tbody>\n",
       "    <tr>\n",
       "      <th>0</th>\n",
       "      <td>32815</td>\n",
       "      <td>1434340848</td>\n",
       "      <td>viewed</td>\n",
       "      <td>17632</td>\n",
       "    </tr>\n",
       "    <tr>\n",
       "      <th>1</th>\n",
       "      <td>32815</td>\n",
       "      <td>1434340848</td>\n",
       "      <td>passed</td>\n",
       "      <td>17632</td>\n",
       "    </tr>\n",
       "    <tr>\n",
       "      <th>2</th>\n",
       "      <td>32815</td>\n",
       "      <td>1434340848</td>\n",
       "      <td>discovered</td>\n",
       "      <td>17632</td>\n",
       "    </tr>\n",
       "    <tr>\n",
       "      <th>3</th>\n",
       "      <td>32811</td>\n",
       "      <td>1434340895</td>\n",
       "      <td>discovered</td>\n",
       "      <td>17632</td>\n",
       "    </tr>\n",
       "    <tr>\n",
       "      <th>4</th>\n",
       "      <td>32811</td>\n",
       "      <td>1434340895</td>\n",
       "      <td>viewed</td>\n",
       "      <td>17632</td>\n",
       "    </tr>\n",
       "  </tbody>\n",
       "</table>\n",
       "</div>"
      ],
      "text/plain": [
       "   step_id   timestamp      action  user_id\n",
       "0    32815  1434340848      viewed    17632\n",
       "1    32815  1434340848      passed    17632\n",
       "2    32815  1434340848  discovered    17632\n",
       "3    32811  1434340895  discovered    17632\n",
       "4    32811  1434340895      viewed    17632"
      ]
     },
     "execution_count": 3,
     "metadata": {},
     "output_type": "execute_result"
    }
   ],
   "source": [
    "event_data_train.head()"
   ]
  },
  {
   "cell_type": "code",
   "execution_count": 4,
   "metadata": {},
   "outputs": [
    {
     "data": {
      "text/plain": [
       "(274768, 4)"
      ]
     },
     "execution_count": 4,
     "metadata": {},
     "output_type": "execute_result"
    }
   ],
   "source": [
    "event_data_test = pd.read_csv(\"datas/events_data_test.zip\")\n",
    "event_data_test.shape"
   ]
  },
  {
   "cell_type": "code",
   "execution_count": 5,
   "metadata": {},
   "outputs": [
    {
     "data": {
      "text/html": [
       "<div>\n",
       "<style scoped>\n",
       "    .dataframe tbody tr th:only-of-type {\n",
       "        vertical-align: middle;\n",
       "    }\n",
       "\n",
       "    .dataframe tbody tr th {\n",
       "        vertical-align: top;\n",
       "    }\n",
       "\n",
       "    .dataframe thead th {\n",
       "        text-align: right;\n",
       "    }\n",
       "</style>\n",
       "<table border=\"1\" class=\"dataframe\">\n",
       "  <thead>\n",
       "    <tr style=\"text-align: right;\">\n",
       "      <th></th>\n",
       "      <th>step_id</th>\n",
       "      <th>timestamp</th>\n",
       "      <th>action</th>\n",
       "      <th>user_id</th>\n",
       "    </tr>\n",
       "  </thead>\n",
       "  <tbody>\n",
       "    <tr>\n",
       "      <th>0</th>\n",
       "      <td>30456</td>\n",
       "      <td>1526893787</td>\n",
       "      <td>viewed</td>\n",
       "      <td>24417</td>\n",
       "    </tr>\n",
       "    <tr>\n",
       "      <th>1</th>\n",
       "      <td>30456</td>\n",
       "      <td>1526893797</td>\n",
       "      <td>viewed</td>\n",
       "      <td>24417</td>\n",
       "    </tr>\n",
       "    <tr>\n",
       "      <th>2</th>\n",
       "      <td>30456</td>\n",
       "      <td>1526893954</td>\n",
       "      <td>viewed</td>\n",
       "      <td>24417</td>\n",
       "    </tr>\n",
       "    <tr>\n",
       "      <th>3</th>\n",
       "      <td>30456</td>\n",
       "      <td>1526895780</td>\n",
       "      <td>viewed</td>\n",
       "      <td>24417</td>\n",
       "    </tr>\n",
       "    <tr>\n",
       "      <th>4</th>\n",
       "      <td>30456</td>\n",
       "      <td>1526893787</td>\n",
       "      <td>discovered</td>\n",
       "      <td>24417</td>\n",
       "    </tr>\n",
       "  </tbody>\n",
       "</table>\n",
       "</div>"
      ],
      "text/plain": [
       "   step_id   timestamp      action  user_id\n",
       "0    30456  1526893787      viewed    24417\n",
       "1    30456  1526893797      viewed    24417\n",
       "2    30456  1526893954      viewed    24417\n",
       "3    30456  1526895780      viewed    24417\n",
       "4    30456  1526893787  discovered    24417"
      ]
     },
     "execution_count": 5,
     "metadata": {},
     "output_type": "execute_result"
    }
   ],
   "source": [
    "event_data_test.head()"
   ]
  },
  {
   "attachments": {},
   "cell_type": "markdown",
   "metadata": {},
   "source": [
    "- submission_data - данные о времени и статусах сабмитов к практическим заданиям:\n",
    "\n",
    "    - step_id - id стэпа\n",
    "    - timestamp - время отправки решения в формате unix date\n",
    "    - user_id - анонимизированный id юзера\n",
    "    - submission_status - статус решения:\n",
    "\n",
    "        - correct - верное решение\n",
    "        - wrong - неверное решение\n",
    "        "
   ]
  },
  {
   "cell_type": "code",
   "execution_count": 6,
   "metadata": {},
   "outputs": [
    {
     "data": {
      "text/plain": [
       "(509104, 4)"
      ]
     },
     "execution_count": 6,
     "metadata": {},
     "output_type": "execute_result"
    }
   ],
   "source": [
    "submission_data_train = pd.read_csv(\"datas/submissions_data_train.zip\")\n",
    "submission_data_train.shape"
   ]
  },
  {
   "cell_type": "code",
   "execution_count": 7,
   "metadata": {},
   "outputs": [
    {
     "data": {
      "text/html": [
       "<div>\n",
       "<style scoped>\n",
       "    .dataframe tbody tr th:only-of-type {\n",
       "        vertical-align: middle;\n",
       "    }\n",
       "\n",
       "    .dataframe tbody tr th {\n",
       "        vertical-align: top;\n",
       "    }\n",
       "\n",
       "    .dataframe thead th {\n",
       "        text-align: right;\n",
       "    }\n",
       "</style>\n",
       "<table border=\"1\" class=\"dataframe\">\n",
       "  <thead>\n",
       "    <tr style=\"text-align: right;\">\n",
       "      <th></th>\n",
       "      <th>step_id</th>\n",
       "      <th>timestamp</th>\n",
       "      <th>submission_status</th>\n",
       "      <th>user_id</th>\n",
       "    </tr>\n",
       "  </thead>\n",
       "  <tbody>\n",
       "    <tr>\n",
       "      <th>0</th>\n",
       "      <td>31971</td>\n",
       "      <td>1434349275</td>\n",
       "      <td>correct</td>\n",
       "      <td>15853</td>\n",
       "    </tr>\n",
       "    <tr>\n",
       "      <th>1</th>\n",
       "      <td>31972</td>\n",
       "      <td>1434348300</td>\n",
       "      <td>correct</td>\n",
       "      <td>15853</td>\n",
       "    </tr>\n",
       "    <tr>\n",
       "      <th>2</th>\n",
       "      <td>31972</td>\n",
       "      <td>1478852149</td>\n",
       "      <td>wrong</td>\n",
       "      <td>15853</td>\n",
       "    </tr>\n",
       "    <tr>\n",
       "      <th>3</th>\n",
       "      <td>31972</td>\n",
       "      <td>1478852164</td>\n",
       "      <td>correct</td>\n",
       "      <td>15853</td>\n",
       "    </tr>\n",
       "    <tr>\n",
       "      <th>4</th>\n",
       "      <td>31976</td>\n",
       "      <td>1434348123</td>\n",
       "      <td>wrong</td>\n",
       "      <td>15853</td>\n",
       "    </tr>\n",
       "  </tbody>\n",
       "</table>\n",
       "</div>"
      ],
      "text/plain": [
       "   step_id   timestamp submission_status  user_id\n",
       "0    31971  1434349275           correct    15853\n",
       "1    31972  1434348300           correct    15853\n",
       "2    31972  1478852149             wrong    15853\n",
       "3    31972  1478852164           correct    15853\n",
       "4    31976  1434348123             wrong    15853"
      ]
     },
     "execution_count": 7,
     "metadata": {},
     "output_type": "execute_result"
    }
   ],
   "source": [
    "submission_data_train.head()"
   ]
  },
  {
   "cell_type": "code",
   "execution_count": 8,
   "metadata": {},
   "outputs": [
    {
     "data": {
      "text/plain": [
       "(42261, 4)"
      ]
     },
     "execution_count": 8,
     "metadata": {},
     "output_type": "execute_result"
    }
   ],
   "source": [
    "submission_data_test = pd.read_csv(\"datas/submission_data_test.zip\")\n",
    "submission_data_test.shape"
   ]
  },
  {
   "cell_type": "code",
   "execution_count": 9,
   "metadata": {},
   "outputs": [
    {
     "data": {
      "text/html": [
       "<div>\n",
       "<style scoped>\n",
       "    .dataframe tbody tr th:only-of-type {\n",
       "        vertical-align: middle;\n",
       "    }\n",
       "\n",
       "    .dataframe tbody tr th {\n",
       "        vertical-align: top;\n",
       "    }\n",
       "\n",
       "    .dataframe thead th {\n",
       "        text-align: right;\n",
       "    }\n",
       "</style>\n",
       "<table border=\"1\" class=\"dataframe\">\n",
       "  <thead>\n",
       "    <tr style=\"text-align: right;\">\n",
       "      <th></th>\n",
       "      <th>step_id</th>\n",
       "      <th>timestamp</th>\n",
       "      <th>submission_status</th>\n",
       "      <th>user_id</th>\n",
       "    </tr>\n",
       "  </thead>\n",
       "  <tbody>\n",
       "    <tr>\n",
       "      <th>0</th>\n",
       "      <td>31971</td>\n",
       "      <td>1526800961</td>\n",
       "      <td>wrong</td>\n",
       "      <td>24370</td>\n",
       "    </tr>\n",
       "    <tr>\n",
       "      <th>1</th>\n",
       "      <td>31971</td>\n",
       "      <td>1526800976</td>\n",
       "      <td>wrong</td>\n",
       "      <td>24370</td>\n",
       "    </tr>\n",
       "    <tr>\n",
       "      <th>2</th>\n",
       "      <td>31971</td>\n",
       "      <td>1526800993</td>\n",
       "      <td>wrong</td>\n",
       "      <td>24370</td>\n",
       "    </tr>\n",
       "    <tr>\n",
       "      <th>3</th>\n",
       "      <td>31971</td>\n",
       "      <td>1526801054</td>\n",
       "      <td>correct</td>\n",
       "      <td>24370</td>\n",
       "    </tr>\n",
       "    <tr>\n",
       "      <th>4</th>\n",
       "      <td>31972</td>\n",
       "      <td>1526800664</td>\n",
       "      <td>wrong</td>\n",
       "      <td>24370</td>\n",
       "    </tr>\n",
       "  </tbody>\n",
       "</table>\n",
       "</div>"
      ],
      "text/plain": [
       "   step_id   timestamp submission_status  user_id\n",
       "0    31971  1526800961             wrong    24370\n",
       "1    31971  1526800976             wrong    24370\n",
       "2    31971  1526800993             wrong    24370\n",
       "3    31971  1526801054           correct    24370\n",
       "4    31972  1526800664             wrong    24370"
      ]
     },
     "execution_count": 9,
     "metadata": {},
     "output_type": "execute_result"
    }
   ],
   "source": [
    "submission_data_test.head()"
   ]
  },
  {
   "attachments": {},
   "cell_type": "markdown",
   "metadata": {},
   "source": [
    "- train-данные содержат данные почти за 3 года по всем пользователей без какой-либо фильтрации\n",
    "- test-данные содержат данные о действиях каждом пользователе за __два первых дня__ конкретного пользователя"
   ]
  },
  {
   "attachments": {},
   "cell_type": "markdown",
   "metadata": {},
   "source": [
    "Напишем функции для предобработки данных:"
   ]
  },
  {
   "cell_type": "code",
   "execution_count": 10,
   "metadata": {},
   "outputs": [],
   "source": [
    "def time_filter(data, days=2):\n",
    "    \"\"\"\n",
    "    Выбирает для переданного датасета все события для каждого пользователя,\n",
    "    укладывающиеся в интервал двух первых дней.\n",
    "    \"\"\"\n",
    "    time_threshold = 60 * 60 * 24 * days\n",
    "\n",
    "    user_min_time = data.groupby('user_id').agg({'timestamp': 'min'}) \\\n",
    "                        .rename(columns={'timestamp': 'min_timestamp'}) \\\n",
    "                        .reset_index()\n",
    "\n",
    "    data_filtered = pd.merge(data, user_min_time, on='user_id', how='outer')\n",
    "\n",
    "    data_filtered = data_filtered.query(f\"timestamp <= min_timestamp + {time_threshold}\")\n",
    "\n",
    "    assert data_filtered['user_id'].nunique() == data['user_id'].nunique()\n",
    "\n",
    "    return data_filtered.drop(['min_timestamp'], axis=1)"
   ]
  },
  {
   "cell_type": "code",
   "execution_count": 11,
   "metadata": {},
   "outputs": [],
   "source": [
    "def base_features(event_data, submission_data):\n",
    "    \"\"\"\n",
    "    Создание датасета с подсчётом всех действий каждого пользователя и\n",
    "    количеством правильных и неправильных ответов.\n",
    "    \"\"\"\n",
    "    user_event = pd.pivot_table(data=event_data, values='step_id',\n",
    "                                index='user_id', columns='action',\n",
    "                                aggfunc='count', fill_value=0) \\\n",
    "                                .reset_index().rename_axis('', axis=1)\n",
    "    \n",
    "    user_submission = pd.pivot_table(data=submission_data, values='step_id',\n",
    "                                index='user_id', columns='submission_status',\n",
    "                                aggfunc='count', fill_value=0) \\\n",
    "                                .reset_index().rename_axis('', axis=1)\n",
    "    \n",
    "    user_data = pd.merge(user_event, user_submission, on='user_id', how='outer') \\\n",
    "                  .fillna(0)\n",
    "    \n",
    "    assert user_data['user_id'].nunique() == event_data['user_id'].nunique()\n",
    "\n",
    "    return user_data\n"
   ]
  },
  {
   "cell_type": "code",
   "execution_count": 12,
   "metadata": {},
   "outputs": [],
   "source": [
    "def target_col(submission_data, threshold=40):\n",
    "    \"\"\"\n",
    "    Вычисляет целевую переменную для каждого пользователя по таблице\n",
    "    сабмитов. Принятый порог равен 40 баллам. Если пользователь набрал\n",
    "    40 баллов - он прошёл курс.\n",
    "    \"\"\"\n",
    "\n",
    "    user_correct_count = submission_data[submission_data['submission_status'] == 'correct'] \\\n",
    "                            .groupby('user_id').agg({'step_id': 'count'}) \\\n",
    "                            .rename(columns={'step_id': 'completed_steps'}) \\\n",
    "                            .reset_index()\n",
    "    \n",
    "    user_correct_count['passed_course'] = (user_correct_count['completed_steps'] >= threshold) \\\n",
    "                                                .astype('int')\n",
    "    \n",
    "    return user_correct_count.drop(['completed_steps'], axis=1)"
   ]
  },
  {
   "cell_type": "code",
   "execution_count": 13,
   "metadata": {},
   "outputs": [],
   "source": [
    "def steps_tried(submission_data):\n",
    "    \"\"\"\n",
    "    Вычисляет количество степов, которые попытался решить пользователь\n",
    "    \"\"\"\n",
    "\n",
    "    steps_tried_data = submission_data.groupby('user_id')['step_id'].nunique().to_frame() \\\n",
    "                                      .rename(columns={'step_id': 'steps_tried'}) \\\n",
    "                                      .reset_index()\n",
    "\n",
    "    return steps_tried_data"
   ]
  },
  {
   "cell_type": "code",
   "execution_count": 14,
   "metadata": {},
   "outputs": [],
   "source": [
    "def correct_ratio(data):\n",
    "    \"\"\"\n",
    "    Вычисление фичи с долей правильных ответов\n",
    "    \"\"\"\n",
    "    data['correct_ratio'] = (data['correct'] / (data['correct'] + data['wrong'])).fillna(0)\n",
    "    \n",
    "    return data"
   ]
  },
  {
   "cell_type": "code",
   "execution_count": 15,
   "metadata": {},
   "outputs": [],
   "source": [
    "def make_train_data(event_data, submission_data):\n",
    "    \"\"\"\n",
    "    Формирует датасеты X и y для тренировки датасета\n",
    "    \"\"\"\n",
    "    # фильтрация двух первых дней на курсе\n",
    "    event_data_2days = time_filter(event_data)\n",
    "    submission_data_2days = time_filter(submission_data)\n",
    "    # базовые фичи\n",
    "    user_data = base_features(event_data_2days, submission_data_2days)\n",
    "    # целевая колонка\n",
    "    user_data_target = target_col(submission_data)\n",
    "    # количество уникальных заданий, к которым приступил пользователь\n",
    "    users_steps_tried = steps_tried(submission_data_2days)\n",
    "    # доля правильных ответов\n",
    "    user_data = correct_ratio(user_data)\n",
    "    # присоединим данные\n",
    "    user_data = user_data.merge(user_data_target, how='outer').fillna(0)\n",
    "    user_data = user_data.merge(users_steps_tried, how='outer').fillna(0)\n",
    "\n",
    "    X = user_data.drop(['passed_course'], axis=1)\n",
    "    y = user_data['passed_course'].map(int)\n",
    "\n",
    "    return X, y"
   ]
  },
  {
   "cell_type": "code",
   "execution_count": 16,
   "metadata": {},
   "outputs": [],
   "source": [
    "def make_test_data(event_data, submission_data):\n",
    "    \"\"\"\n",
    "    Формирует датасет y для тестирования датасета\n",
    "    \"\"\"\n",
    "    # базовые фичи\n",
    "    user_data = base_features(event_data, submission_data)\n",
    "    # количество уникальных заданий, к которым приступил пользователь\n",
    "    users_steps_tried = steps_tried(submission_data)\n",
    "    # доля правильных ответов\n",
    "    user_data = correct_ratio(user_data)\n",
    "    # присоединим данные\n",
    "    user_data = user_data.merge(users_steps_tried, how='outer').fillna(0)\n",
    "\n",
    "    X = user_data\n",
    "\n",
    "    return X"
   ]
  },
  {
   "attachments": {},
   "cell_type": "markdown",
   "metadata": {},
   "source": [
    "Создадим тренировочный датасет."
   ]
  },
  {
   "cell_type": "code",
   "execution_count": 17,
   "metadata": {},
   "outputs": [],
   "source": [
    "X_train, y_train = make_train_data(event_data_train, submission_data_train)"
   ]
  },
  {
   "attachments": {},
   "cell_type": "markdown",
   "metadata": {},
   "source": [
    "Создадим тестовый датасет."
   ]
  },
  {
   "cell_type": "code",
   "execution_count": 18,
   "metadata": {},
   "outputs": [],
   "source": [
    "X_test = make_test_data(event_data_test, submission_data_test)"
   ]
  },
  {
   "attachments": {},
   "cell_type": "markdown",
   "metadata": {},
   "source": [
    "Запишем данные в .csv файлы"
   ]
  },
  {
   "cell_type": "code",
   "execution_count": 19,
   "metadata": {},
   "outputs": [],
   "source": [
    "X_train.to_csv(\"datas/X_train.zip\", index_label=False)\n",
    "y_train.to_csv(\"datas/y_train.zip\", index_label=False)\n",
    "X_test.to_csv(\"datas/X_test.zip\", index_label=False)"
   ]
  }
 ],
 "metadata": {
  "kernelspec": {
   "display_name": "Python 3",
   "language": "python",
   "name": "python3"
  },
  "language_info": {
   "codemirror_mode": {
    "name": "ipython",
    "version": 3
   },
   "file_extension": ".py",
   "mimetype": "text/x-python",
   "name": "python",
   "nbconvert_exporter": "python",
   "pygments_lexer": "ipython3",
   "version": "3.10.7"
  },
  "orig_nbformat": 4
 },
 "nbformat": 4,
 "nbformat_minor": 2
}
